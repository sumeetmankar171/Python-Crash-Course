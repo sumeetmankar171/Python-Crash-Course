{
 "cells": [
  {
   "cell_type": "markdown",
   "metadata": {
    "id": "iYxd324SXXrS",
    "slideshow": {
     "slide_type": "slide"
    }
   },
   "source": [
    "# Introduction to python\n"
   ]
  },
  {
   "cell_type": "markdown",
   "metadata": {
    "id": "O880q6jPYHx1",
    "slideshow": {
     "slide_type": "slide"
    }
   },
   "source": [
    "## Basic Operations\n"
   ]
  },
  {
   "cell_type": "code",
   "execution_count": 1,
   "metadata": {
    "colab": {
     "base_uri": "https://localhost:8080/"
    },
    "id": "fYbpx2ksWN4x",
    "outputId": "f6d6d266-b0ef-47e6-9718-7b98eb695e54",
    "slideshow": {
     "slide_type": "subslide"
    }
   },
   "outputs": [
    {
     "data": {
      "text/plain": [
       "2"
      ]
     },
     "execution_count": 1,
     "metadata": {
      "tags": []
     },
     "output_type": "execute_result"
    }
   ],
   "source": [
    "# There are many basic mathematics operations, most common are\n",
    "\n",
    "# Addition \n",
    "\n",
    "1+1"
   ]
  },
  {
   "cell_type": "code",
   "execution_count": 2,
   "metadata": {
    "colab": {
     "base_uri": "https://localhost:8080/"
    },
    "id": "n0hWqWElXj_f",
    "outputId": "02e77b79-0cdc-4e95-c03e-9992bbd17efe",
    "slideshow": {
     "slide_type": "subslide"
    }
   },
   "outputs": [
    {
     "data": {
      "text/plain": [
       "-3"
      ]
     },
     "execution_count": 2,
     "metadata": {
      "tags": []
     },
     "output_type": "execute_result"
    }
   ],
   "source": [
    "# Subtraction \n",
    "\n",
    "1-1-1-1-1"
   ]
  },
  {
   "cell_type": "code",
   "execution_count": 3,
   "metadata": {
    "colab": {
     "base_uri": "https://localhost:8080/"
    },
    "id": "kYUdQ92TXnFc",
    "outputId": "0f89b23f-dd63-4eed-f1df-6e9eb75b9e81",
    "slideshow": {
     "slide_type": "subslide"
    }
   },
   "outputs": [
    {
     "data": {
      "text/plain": [
       "20.0"
      ]
     },
     "execution_count": 3,
     "metadata": {
      "tags": []
     },
     "output_type": "execute_result"
    }
   ],
   "source": [
    "# Multiplication and division\n",
    "\n",
    "10*10/5"
   ]
  },
  {
   "cell_type": "code",
   "execution_count": 4,
   "metadata": {
    "colab": {
     "base_uri": "https://localhost:8080/"
    },
    "id": "SMLN334IXs0U",
    "outputId": "dc328501-e720-4df8-be61-dff316eeda1b",
    "slideshow": {
     "slide_type": "subslide"
    }
   },
   "outputs": [
    {
     "data": {
      "text/plain": [
       "100"
      ]
     },
     "execution_count": 4,
     "metadata": {
      "tags": []
     },
     "output_type": "execute_result"
    }
   ],
   "source": [
    "# Powers\n",
    "\n",
    "10**2"
   ]
  },
  {
   "cell_type": "code",
   "execution_count": 5,
   "metadata": {
    "colab": {
     "base_uri": "https://localhost:8080/"
    },
    "id": "1qgrsxl8Xv_A",
    "outputId": "e5ea298b-f236-484a-d5ad-2fcf9c0763b3",
    "slideshow": {
     "slide_type": "subslide"
    }
   },
   "outputs": [
    {
     "data": {
      "text/plain": [
       "27.5"
      ]
     },
     "execution_count": 5,
     "metadata": {
      "tags": []
     },
     "output_type": "execute_result"
    }
   ],
   "source": [
    "# Note that order of operations, like in Maths, is very important. We can use () to be more specific if we want\n",
    "\n",
    "5*5+5/2"
   ]
  },
  {
   "cell_type": "code",
   "execution_count": 6,
   "metadata": {
    "colab": {
     "base_uri": "https://localhost:8080/"
    },
    "id": "bfo1oyB-X5Sm",
    "outputId": "8e4f32ad-08b0-455a-8534-0d12ac28f4d7",
    "slideshow": {
     "slide_type": "subslide"
    }
   },
   "outputs": [
    {
     "data": {
      "text/plain": [
       "15.0"
      ]
     },
     "execution_count": 6,
     "metadata": {
      "tags": []
     },
     "output_type": "execute_result"
    }
   ],
   "source": [
    "(5*5+5)/2"
   ]
  },
  {
   "cell_type": "markdown",
   "metadata": {
    "id": "rFVSdqX-YNKu",
    "slideshow": {
     "slide_type": "slide"
    }
   },
   "source": [
    "## Variables\n"
   ]
  },
  {
   "cell_type": "code",
   "execution_count": 7,
   "metadata": {
    "colab": {
     "base_uri": "https://localhost:8080/"
    },
    "id": "WR_S1jMZYPZp",
    "outputId": "45783982-d0fd-4d8a-f9a8-54dd6f85edfc",
    "slideshow": {
     "slide_type": "subslide"
    }
   },
   "outputs": [
    {
     "data": {
      "text/plain": [
       "10"
      ]
     },
     "execution_count": 7,
     "metadata": {
      "tags": []
     },
     "output_type": "execute_result"
    }
   ],
   "source": [
    "i = 10\n",
    "\n",
    "i"
   ]
  },
  {
   "cell_type": "code",
   "execution_count": 8,
   "metadata": {
    "colab": {
     "base_uri": "https://localhost:8080/"
    },
    "id": "V_1A5oLFYUjc",
    "outputId": "eb74e248-e7fc-4b8c-9a61-9806b5e5b9fe",
    "slideshow": {
     "slide_type": "subslide"
    }
   },
   "outputs": [
    {
     "data": {
      "text/plain": [
       "20"
      ]
     },
     "execution_count": 8,
     "metadata": {
      "tags": []
     },
     "output_type": "execute_result"
    }
   ],
   "source": [
    "i+i"
   ]
  },
  {
   "cell_type": "code",
   "execution_count": 9,
   "metadata": {
    "colab": {
     "base_uri": "https://localhost:8080/"
    },
    "id": "d4YQEuxOYW4u",
    "outputId": "7b097b93-559a-4017-b248-9e626fe77812",
    "slideshow": {
     "slide_type": "subslide"
    }
   },
   "outputs": [
    {
     "data": {
      "text/plain": [
       "20"
      ]
     },
     "execution_count": 9,
     "metadata": {
      "tags": []
     },
     "output_type": "execute_result"
    }
   ],
   "source": [
    "i = i + i\n",
    "i"
   ]
  },
  {
   "cell_type": "code",
   "execution_count": 10,
   "metadata": {
    "colab": {
     "base_uri": "https://localhost:8080/"
    },
    "id": "BWDd1DAtYbA4",
    "outputId": "406ae3d8-d027-4fdb-ecf5-b48658aa519e",
    "slideshow": {
     "slide_type": "subslide"
    }
   },
   "outputs": [
    {
     "data": {
      "text/plain": [
       "1000"
      ]
     },
     "execution_count": 10,
     "metadata": {
      "tags": []
     },
     "output_type": "execute_result"
    }
   ],
   "source": [
    "# Using variables allows us to make it more clear what we are doing and limit mistakes \n",
    "\n",
    "x = 5\n",
    "y = 10\n",
    "z = 20 \n",
    "\n",
    "volume = x*y*z\n",
    "volume"
   ]
  },
  {
   "cell_type": "code",
   "execution_count": 11,
   "metadata": {
    "colab": {
     "base_uri": "https://localhost:8080/",
     "height": 37
    },
    "id": "MPD79EQ1a7i-",
    "outputId": "fe501191-c2c0-4c21-a901-71966c64f3d3",
    "slideshow": {
     "slide_type": "subslide"
    }
   },
   "outputs": [
    {
     "data": {
      "application/vnd.google.colaboratory.intrinsic+json": {
       "type": "string"
      },
      "text/plain": [
       "'Good morningBob'"
      ]
     },
     "execution_count": 11,
     "metadata": {
      "tags": []
     },
     "output_type": "execute_result"
    }
   ],
   "source": [
    "# Variables don't have to be numbers, or even single things, as we'll find out shortly. \n",
    "\n",
    "hello = \"Good morning\"\n",
    "name = 'Bob'\n",
    "\n",
    "hibob = hello + name\n",
    "hibob"
   ]
  },
  {
   "cell_type": "code",
   "execution_count": 12,
   "metadata": {
    "colab": {
     "base_uri": "https://localhost:8080/",
     "height": 37
    },
    "id": "-RTJApkybOoD",
    "outputId": "74e232aa-5e69-49d4-e5d6-e44608b2624e",
    "slideshow": {
     "slide_type": "subslide"
    }
   },
   "outputs": [
    {
     "data": {
      "application/vnd.google.colaboratory.intrinsic+json": {
       "type": "string"
      },
      "text/plain": [
       "'Good morning Bob'"
      ]
     },
     "execution_count": 12,
     "metadata": {
      "tags": []
     },
     "output_type": "execute_result"
    }
   ],
   "source": [
    "# let's see if we can fix to make it pretty\n",
    "\n",
    "hibob = hello + ' ' + name\n",
    "hibob"
   ]
  },
  {
   "cell_type": "code",
   "execution_count": 13,
   "metadata": {
    "colab": {
     "base_uri": "https://localhost:8080/",
     "height": 198
    },
    "id": "VLQ0aFLmbb12",
    "outputId": "c1a9ea37-6b15-4fe9-c8ba-e214caf91ab4",
    "slideshow": {
     "slide_type": "subslide"
    }
   },
   "outputs": [
    {
     "ename": "TypeError",
     "evalue": "ignored",
     "output_type": "error",
     "traceback": [
      "\u001b[0;31m---------------------------------------------------------------------------\u001b[0m",
      "\u001b[0;31mTypeError\u001b[0m                                 Traceback (most recent call last)",
      "\u001b[0;32m<ipython-input-13-2a7268c6ee8e>\u001b[0m in \u001b[0;36m<module>\u001b[0;34m()\u001b[0m\n\u001b[1;32m      1\u001b[0m \u001b[0;31m# But be careful and know what variable types you're using...\u001b[0m\u001b[0;34m\u001b[0m\u001b[0;34m\u001b[0m\u001b[0;34m\u001b[0m\u001b[0m\n\u001b[1;32m      2\u001b[0m \u001b[0;31m# Is this the output you really want?\u001b[0m\u001b[0;34m\u001b[0m\u001b[0;34m\u001b[0m\u001b[0;34m\u001b[0m\u001b[0m\n\u001b[0;32m----> 3\u001b[0;31m \u001b[0mname\u001b[0m \u001b[0;34m+\u001b[0m \u001b[0;36m5\u001b[0m\u001b[0;34m\u001b[0m\u001b[0;34m\u001b[0m\u001b[0m\n\u001b[0m",
      "\u001b[0;31mTypeError\u001b[0m: can only concatenate str (not \"int\") to str"
     ]
    }
   ],
   "source": [
    "# But be careful and know what variable types you're using... \n",
    "# Is this the output you really want?\n",
    "name + 5"
   ]
  },
  {
   "cell_type": "code",
   "execution_count": 14,
   "metadata": {
    "colab": {
     "base_uri": "https://localhost:8080/",
     "height": 37
    },
    "id": "X2krvel4btYF",
    "outputId": "7a96f01a-ea5b-49e8-8f20-bdeb3242a870",
    "slideshow": {
     "slide_type": "subslide"
    }
   },
   "outputs": [
    {
     "data": {
      "application/vnd.google.colaboratory.intrinsic+json": {
       "type": "string"
      },
      "text/plain": [
       "'Good morning BobGood morning BobGood morning BobGood morning BobGood morning Bob'"
      ]
     },
     "execution_count": 14,
     "metadata": {
      "tags": []
     },
     "output_type": "execute_result"
    }
   ],
   "source": [
    "# Or how about this\n",
    "\n",
    "hibob * 5"
   ]
  },
  {
   "cell_type": "markdown",
   "metadata": {
    "id": "XYMq2mhfaW3T",
    "slideshow": {
     "slide_type": "slide"
    }
   },
   "source": [
    "## Functions\n"
   ]
  },
  {
   "cell_type": "code",
   "execution_count": 15,
   "metadata": {
    "colab": {
     "base_uri": "https://localhost:8080/"
    },
    "id": "LMeFlUwOaYIP",
    "outputId": "386a1a22-f240-461f-f866-56caa718b6c7",
    "slideshow": {
     "slide_type": "subslide"
    }
   },
   "outputs": [
    {
     "data": {
      "text/plain": [
       "10"
      ]
     },
     "execution_count": 15,
     "metadata": {
      "tags": []
     },
     "output_type": "execute_result"
    }
   ],
   "source": [
    "def myFirstFunction(a):\n",
    "  return a*2\n",
    "\n",
    "myFirstFunction(5)"
   ]
  },
  {
   "cell_type": "code",
   "execution_count": 16,
   "metadata": {
    "colab": {
     "base_uri": "https://localhost:8080/"
    },
    "id": "I6Mwq5y5agrb",
    "outputId": "8c7086a0-57e7-4385-e5d4-dbd408ee11e7",
    "slideshow": {
     "slide_type": "subslide"
    }
   },
   "outputs": [
    {
     "data": {
      "text/plain": [
       "40"
      ]
     },
     "execution_count": 16,
     "metadata": {
      "tags": []
     },
     "output_type": "execute_result"
    }
   ],
   "source": [
    "# Combine with the previous mention of variables and we can do some fun things\n",
    "\n",
    "res = myFirstFunction(10)\n",
    "res = myFirstFunction(res)\n",
    "res\n"
   ]
  },
  {
   "cell_type": "code",
   "execution_count": 17,
   "metadata": {
    "colab": {
     "base_uri": "https://localhost:8080/"
    },
    "id": "b9CXCNoOauT0",
    "outputId": "b20a0a90-0e57-49ab-d4a5-cb5331770e68",
    "slideshow": {
     "slide_type": "subslide"
    }
   },
   "outputs": [
    {
     "data": {
      "text/plain": [
       "40"
      ]
     },
     "execution_count": 17,
     "metadata": {
      "tags": []
     },
     "output_type": "execute_result"
    }
   ],
   "source": [
    "# Or some crazy things, that may be quick to code but hard to read and for others to understand \n",
    "\n",
    "res = myFirstFunction(myFirstFunction(10))\n",
    "res"
   ]
  },
  {
   "cell_type": "code",
   "execution_count": 18,
   "metadata": {
    "colab": {
     "base_uri": "https://localhost:8080/"
    },
    "id": "BclCaQDscCQN",
    "outputId": "5bff43eb-1ba9-4976-b6ce-e90f028d71f9",
    "slideshow": {
     "slide_type": "subslide"
    }
   },
   "outputs": [
    {
     "name": "stdout",
     "output_type": "stream",
     "text": [
      "X is equal to 10\n",
      "Y is equal to 20\n",
      "Z is equal to 30\n",
      "----\n",
      "Volume is:\n",
      "6000\n",
      "X is equal to 5\n",
      "Y is equal to 10\n",
      "Z is equal to 2\n",
      "----\n",
      "Volume is:\n",
      "100\n"
     ]
    }
   ],
   "source": [
    "# Using the print function for more output than just the last command entered: \n",
    "\n",
    "def volumeOfCuboid(x,y,z):\n",
    "    print(\"X is equal to\", x)\n",
    "    print(\"Y is equal to\", y)\n",
    "    print(\"Z is equal to\", z)\n",
    "    print(\"----\")\n",
    "    volume = x*y*z\n",
    "    print(\"Volume is:\")\n",
    "    print(volume)\n",
    "    return volume\n",
    "\n",
    "v = volumeOfCuboid(10,20,30)\n",
    "\n",
    "a = 5\n",
    "b = 10\n",
    "c = 2\n",
    "\n",
    "v = volumeOfCuboid(a,b,c)"
   ]
  },
  {
   "cell_type": "markdown",
   "metadata": {
    "id": "3ygRkDM3cp4S",
    "slideshow": {
     "slide_type": "slide"
    }
   },
   "source": [
    "## Lists, dictionaries and loops\n"
   ]
  },
  {
   "cell_type": "code",
   "execution_count": 19,
   "metadata": {
    "colab": {
     "base_uri": "https://localhost:8080/"
    },
    "id": "2tA32Fg8ctWe",
    "outputId": "38c86dbd-587e-4918-f41e-5457821d0072",
    "slideshow": {
     "slide_type": "subslide"
    }
   },
   "outputs": [
    {
     "name": "stdout",
     "output_type": "stream",
     "text": [
      "['milk', 'bread', 'tofu']\n",
      "Opps I forgot to add apples\n",
      "['milk', 'bread', 'tofu', 'apples']\n"
     ]
    }
   ],
   "source": [
    "myShoppingList = ['milk', 'bread', 'tofu']\n",
    "print(myShoppingList)\n",
    "print('Opps I forgot to add apples')\n",
    "myShoppingList.append('apples')\n",
    "print(myShoppingList)"
   ]
  },
  {
   "cell_type": "code",
   "execution_count": 20,
   "metadata": {
    "colab": {
     "base_uri": "https://localhost:8080/"
    },
    "id": "DF5c9k8sczAk",
    "outputId": "c305bace-4d17-4ff0-c974-5fd064eaa0b0",
    "slideshow": {
     "slide_type": "subslide"
    }
   },
   "outputs": [
    {
     "name": "stdout",
     "output_type": "stream",
     "text": [
      "the first thing in my list is\n",
      "milk\n"
     ]
    }
   ],
   "source": [
    "myShoppingList = ['milk', 'bread', 'tofu']\n",
    "\n",
    "print(\"the first thing in my list is\")\n",
    "print(myShoppingList[0])"
   ]
  },
  {
   "cell_type": "code",
   "execution_count": 21,
   "metadata": {
    "colab": {
     "base_uri": "https://localhost:8080/"
    },
    "id": "9h6yd1G9c1Ga",
    "outputId": "b3480c3a-31e5-478b-8991-7acd22895bfe",
    "slideshow": {
     "slide_type": "subslide"
    }
   },
   "outputs": [
    {
     "name": "stdout",
     "output_type": "stream",
     "text": [
      "milk\n",
      "bread\n",
      "tofu\n"
     ]
    }
   ],
   "source": [
    "myShoppingList = ['milk', 'bread', 'tofu']\n",
    "\n",
    "for i in myShoppingList:\n",
    "    print(i)"
   ]
  },
  {
   "cell_type": "code",
   "execution_count": 22,
   "metadata": {
    "colab": {
     "base_uri": "https://localhost:8080/"
    },
    "id": "pASsF3hDc5lx",
    "outputId": "8226eb81-2945-49d9-d14a-045654d914f9",
    "slideshow": {
     "slide_type": "subslide"
    }
   },
   "outputs": [
    {
     "name": "stdout",
     "output_type": "stream",
     "text": [
      "10\n"
     ]
    }
   ],
   "source": [
    "Ages = {\"Ben\" : 10, \"Spider-man\": 34, \"Claire\": 24}\n",
    "print(Ages[\"Ben\"])"
   ]
  },
  {
   "cell_type": "code",
   "execution_count": 23,
   "metadata": {
    "colab": {
     "base_uri": "https://localhost:8080/"
    },
    "id": "hLF6KnjWdwcP",
    "outputId": "1f0d1a8a-db4b-44f6-a945-ecd4abc696f4",
    "slideshow": {
     "slide_type": "subslide"
    }
   },
   "outputs": [
    {
     "name": "stdout",
     "output_type": "stream",
     "text": [
      "Ben\n",
      "Spider-man\n",
      "Claire\n"
     ]
    }
   ],
   "source": [
    "# notice what happens here, is it what you expect?\n",
    "for i in Ages:\n",
    "  print(i)"
   ]
  },
  {
   "cell_type": "code",
   "execution_count": 24,
   "metadata": {
    "colab": {
     "base_uri": "https://localhost:8080/"
    },
    "id": "TOZ_XT-5d73i",
    "outputId": "827890eb-3669-4d72-f5a0-7b33a0e33e28",
    "slideshow": {
     "slide_type": "subslide"
    }
   },
   "outputs": [
    {
     "name": "stdout",
     "output_type": "stream",
     "text": [
      "ahh, we forgot to get Tom's age\n",
      "{'Ben': 10, 'Spider-man': 34, 'Claire': 24, 'Tom': 17}\n"
     ]
    }
   ],
   "source": [
    "Ages = {\"Ben\" : 10, \"Spider-man\": 34, \"Claire\": 24}\n",
    "\n",
    "print(\"ahh, we forgot to get Tom's age\")\n",
    "Ages['Tom'] = 17\n",
    "\n",
    "print(Ages)"
   ]
  },
  {
   "cell_type": "markdown",
   "metadata": {
    "id": "0GnDHigPi65S",
    "slideshow": {
     "slide_type": "slide"
    }
   },
   "source": [
    "## Conditional statements"
   ]
  },
  {
   "cell_type": "code",
   "execution_count": 25,
   "metadata": {
    "colab": {
     "base_uri": "https://localhost:8080/"
    },
    "id": "Y7Y4gfw9i9h6",
    "outputId": "cc44143b-ce90-4618-b17a-9663c5d8264c",
    "slideshow": {
     "slide_type": "subslide"
    }
   },
   "outputs": [
    {
     "data": {
      "text/plain": [
       "False"
      ]
     },
     "execution_count": 25,
     "metadata": {
      "tags": []
     },
     "output_type": "execute_result"
    }
   ],
   "source": [
    "# Sometimes we want to only process data if certain conditions are met... \n",
    "# Or we might want to check if something is True, this can be done really easily... \n",
    "\n",
    "\n",
    "5 == 10"
   ]
  },
  {
   "cell_type": "code",
   "execution_count": 26,
   "metadata": {
    "colab": {
     "base_uri": "https://localhost:8080/"
    },
    "id": "-EEiOelGjHy8",
    "outputId": "3d217d83-5424-45b6-8f16-64b4cd40a991",
    "slideshow": {
     "slide_type": "subslide"
    }
   },
   "outputs": [
    {
     "data": {
      "text/plain": [
       "True"
      ]
     },
     "execution_count": 26,
     "metadata": {
      "tags": []
     },
     "output_type": "execute_result"
    }
   ],
   "source": [
    "10==10"
   ]
  },
  {
   "cell_type": "code",
   "execution_count": 27,
   "metadata": {
    "colab": {
     "base_uri": "https://localhost:8080/"
    },
    "id": "WvSXgNbcjJEW",
    "outputId": "92f07f0f-863c-4dd3-a89c-874d7423e772",
    "slideshow": {
     "slide_type": "subslide"
    }
   },
   "outputs": [
    {
     "data": {
      "text/plain": [
       "False"
      ]
     },
     "execution_count": 27,
     "metadata": {
      "tags": []
     },
     "output_type": "execute_result"
    }
   ],
   "source": [
    "'carrots' == 'carrotz'"
   ]
  },
  {
   "cell_type": "code",
   "execution_count": 28,
   "metadata": {
    "colab": {
     "base_uri": "https://localhost:8080/"
    },
    "id": "JoAh6lU5jOZi",
    "outputId": "fd890b03-58b5-4853-9356-57efb948ea53",
    "slideshow": {
     "slide_type": "subslide"
    }
   },
   "outputs": [
    {
     "data": {
      "text/plain": [
       "False"
      ]
     },
     "execution_count": 28,
     "metadata": {
      "tags": []
     },
     "output_type": "execute_result"
    }
   ],
   "source": [
    "'carrots' == 'carrotz'"
   ]
  },
  {
   "cell_type": "code",
   "execution_count": 29,
   "metadata": {
    "colab": {
     "base_uri": "https://localhost:8080/"
    },
    "id": "NU8Tzv-qjP8u",
    "outputId": "3ec52162-3304-4e03-87f1-bac23b0d8b51",
    "slideshow": {
     "slide_type": "subslide"
    }
   },
   "outputs": [
    {
     "data": {
      "text/plain": [
       "False"
      ]
     },
     "execution_count": 29,
     "metadata": {
      "tags": []
     },
     "output_type": "execute_result"
    }
   ],
   "source": [
    "# Read as \"10 is NOT equal to 10\" which is a False statement. \n",
    "10 != 10"
   ]
  },
  {
   "cell_type": "code",
   "execution_count": 30,
   "metadata": {
    "colab": {
     "base_uri": "https://localhost:8080/"
    },
    "id": "rvN5hkRYjgok",
    "outputId": "25ea4933-e939-4ebe-ee31-b4e1bd58cc7e",
    "slideshow": {
     "slide_type": "subslide"
    }
   },
   "outputs": [
    {
     "data": {
      "text/plain": [
       "True"
      ]
     },
     "execution_count": 30,
     "metadata": {
      "tags": []
     },
     "output_type": "execute_result"
    }
   ],
   "source": [
    "# We can use an 'in' statement in a similar way\n",
    "\n",
    "'spider' in 'spider-man'"
   ]
  },
  {
   "cell_type": "code",
   "execution_count": 31,
   "metadata": {
    "colab": {
     "base_uri": "https://localhost:8080/"
    },
    "id": "p65_kQtpjsIw",
    "outputId": "8233dc82-e9dc-472b-d216-5daf4301d655",
    "slideshow": {
     "slide_type": "subslide"
    }
   },
   "outputs": [
    {
     "name": "stdout",
     "output_type": "stream",
     "text": [
      "Youre too young to drive\n"
     ]
    }
   ],
   "source": [
    "# let's build a piece of code which only runs if a condition is met \n",
    "\n",
    "age = 16\n",
    "\n",
    "if age < 17:\n",
    "  print('Youre too young to drive')\n",
    "if age >= 17:\n",
    "  print('You can get a license')"
   ]
  },
  {
   "cell_type": "code",
   "execution_count": 32,
   "metadata": {
    "colab": {
     "base_uri": "https://localhost:8080/"
    },
    "id": "y43Noe-MkL5F",
    "outputId": "4f8d6dd9-3fed-43ab-98ff-e934c094de2b",
    "slideshow": {
     "slide_type": "subslide"
    }
   },
   "outputs": [
    {
     "name": "stdout",
     "output_type": "stream",
     "text": [
      "Youre too young to drive\n"
     ]
    }
   ],
   "source": [
    "# we can shorten this\n",
    "\n",
    "if age < 17: \n",
    "  print('Youre too young to drive')\n",
    "else:\n",
    "  print('you can get a license')"
   ]
  },
  {
   "cell_type": "code",
   "execution_count": 33,
   "metadata": {
    "colab": {
     "base_uri": "https://localhost:8080/"
    },
    "id": "_kBliwwUjYpr",
    "outputId": "1ac81d98-a4c5-4a33-fc73-5481e1ddb13c",
    "slideshow": {
     "slide_type": "subslide"
    }
   },
   "outputs": [
    {
     "name": "stdout",
     "output_type": "stream",
     "text": [
      "Hey, who let a kid in here\n",
      "Can Bens parents come and collect them\n",
      "Hey spidey\n",
      "Hello Claire\n"
     ]
    }
   ],
   "source": [
    "# Let's just combine some of what we've done together\n",
    "\n",
    "Ages = {\"Ben\" : 10, \"Spider-man\": 34, \"Claire\": 24}\n",
    "\n",
    "for person in Ages:\n",
    "  if person == \"Spider-man\":\n",
    "    print('Hey spidey')\n",
    "  else:\n",
    "    if Ages[person] < 18:\n",
    "      print('Hey, who let a kid in here')\n",
    "      print('Can ' + person + 's parents come and collect them')\n",
    "    else:\n",
    "      print(\"Hello\" + \" \" + person)"
   ]
  },
  {
   "cell_type": "markdown",
   "metadata": {
    "id": "zDCC1wj2eitk",
    "slideshow": {
     "slide_type": "slide"
    }
   },
   "source": [
    "## Importing libraries \n"
   ]
  },
  {
   "cell_type": "code",
   "execution_count": 34,
   "metadata": {
    "colab": {
     "base_uri": "https://localhost:8080/"
    },
    "id": "xBgbxVK9ektW",
    "outputId": "fca32e7e-4864-4b95-8aa1-9d6d6cfa7959",
    "slideshow": {
     "slide_type": "subslide"
    }
   },
   "outputs": [
    {
     "data": {
      "text/plain": [
       "10.0"
      ]
     },
     "execution_count": 34,
     "metadata": {
      "tags": []
     },
     "output_type": "execute_result"
    }
   ],
   "source": [
    "import numpy \n",
    "i = 100 \n",
    "numpy.sqrt(i)"
   ]
  },
  {
   "cell_type": "code",
   "execution_count": 35,
   "metadata": {
    "colab": {
     "base_uri": "https://localhost:8080/"
    },
    "id": "AhOHwh_jeq8F",
    "outputId": "e8381ac1-3462-40c8-cfb4-91cfeb971e1d",
    "slideshow": {
     "slide_type": "subslide"
    }
   },
   "outputs": [
    {
     "data": {
      "text/plain": [
       "10.0"
      ]
     },
     "execution_count": 35,
     "metadata": {
      "tags": []
     },
     "output_type": "execute_result"
    }
   ],
   "source": [
    "import numpy as np \n",
    "i = 100 \n",
    "np.sqrt(i)"
   ]
  },
  {
   "cell_type": "code",
   "execution_count": 36,
   "metadata": {
    "colab": {
     "base_uri": "https://localhost:8080/"
    },
    "id": "CerkjrIzeu6U",
    "outputId": "dd486c01-00c7-4d35-9090-53bb2a42314d",
    "slideshow": {
     "slide_type": "subslide"
    }
   },
   "outputs": [
    {
     "name": "stdout",
     "output_type": "stream",
     "text": [
      "[1 2 3 4 5 6 7 8 9]\n"
     ]
    }
   ],
   "source": [
    "myArray = np.arange(1,10)\n",
    "print(myArray)"
   ]
  },
  {
   "cell_type": "code",
   "execution_count": 37,
   "metadata": {
    "colab": {
     "base_uri": "https://localhost:8080/"
    },
    "id": "0OKDCCf4ey-y",
    "outputId": "aa2f340f-0cd3-4a33-9f51-925bf5e4d996",
    "slideshow": {
     "slide_type": "subslide"
    }
   },
   "outputs": [
    {
     "name": "stdout",
     "output_type": "stream",
     "text": [
      "[ 0.          0.50505051  1.01010101  1.51515152  2.02020202  2.52525253\n",
      "  3.03030303  3.53535354  4.04040404  4.54545455  5.05050505  5.55555556\n",
      "  6.06060606  6.56565657  7.07070707  7.57575758  8.08080808  8.58585859\n",
      "  9.09090909  9.5959596  10.1010101  10.60606061 11.11111111 11.61616162\n",
      " 12.12121212 12.62626263 13.13131313 13.63636364 14.14141414 14.64646465\n",
      " 15.15151515 15.65656566 16.16161616 16.66666667 17.17171717 17.67676768\n",
      " 18.18181818 18.68686869 19.19191919 19.6969697  20.2020202  20.70707071\n",
      " 21.21212121 21.71717172 22.22222222 22.72727273 23.23232323 23.73737374\n",
      " 24.24242424 24.74747475 25.25252525 25.75757576 26.26262626 26.76767677\n",
      " 27.27272727 27.77777778 28.28282828 28.78787879 29.29292929 29.7979798\n",
      " 30.3030303  30.80808081 31.31313131 31.81818182 32.32323232 32.82828283\n",
      " 33.33333333 33.83838384 34.34343434 34.84848485 35.35353535 35.85858586\n",
      " 36.36363636 36.86868687 37.37373737 37.87878788 38.38383838 38.88888889\n",
      " 39.39393939 39.8989899  40.4040404  40.90909091 41.41414141 41.91919192\n",
      " 42.42424242 42.92929293 43.43434343 43.93939394 44.44444444 44.94949495\n",
      " 45.45454545 45.95959596 46.46464646 46.96969697 47.47474747 47.97979798\n",
      " 48.48484848 48.98989899 49.49494949 50.        ]\n"
     ]
    }
   ],
   "source": [
    "start = 0\n",
    "end = 50\n",
    "num = 100\n",
    "\n",
    "nums = np.linspace(start, end, num)\n",
    "print(nums)"
   ]
  },
  {
   "cell_type": "code",
   "execution_count": 38,
   "metadata": {
    "colab": {
     "base_uri": "https://localhost:8080/"
    },
    "id": "qKQEV5lZfEGu",
    "outputId": "0dc5118e-ebd9-4a49-9b01-847a4160fdc5",
    "slideshow": {
     "slide_type": "subslide"
    }
   },
   "outputs": [
    {
     "data": {
      "text/plain": [
       "array([ 0. ,  0.5,  1. ,  1.5,  2. ,  2.5,  3. ,  3.5,  4. ,  4.5,  5.1,\n",
       "        5.6,  6.1,  6.6,  7.1,  7.6,  8.1,  8.6,  9.1,  9.6, 10.1, 10.6,\n",
       "       11.1, 11.6, 12.1, 12.6, 13.1, 13.6, 14.1, 14.6, 15.2, 15.7, 16.2,\n",
       "       16.7, 17.2, 17.7, 18.2, 18.7, 19.2, 19.7, 20.2, 20.7, 21.2, 21.7,\n",
       "       22.2, 22.7, 23.2, 23.7, 24.2, 24.7, 25.3, 25.8, 26.3, 26.8, 27.3,\n",
       "       27.8, 28.3, 28.8, 29.3, 29.8, 30.3, 30.8, 31.3, 31.8, 32.3, 32.8,\n",
       "       33.3, 33.8, 34.3, 34.8, 35.4, 35.9, 36.4, 36.9, 37.4, 37.9, 38.4,\n",
       "       38.9, 39.4, 39.9, 40.4, 40.9, 41.4, 41.9, 42.4, 42.9, 43.4, 43.9,\n",
       "       44.4, 44.9, 45.5, 46. , 46.5, 47. , 47.5, 48. , 48.5, 49. , 49.5,\n",
       "       50. ])"
      ]
     },
     "execution_count": 38,
     "metadata": {
      "tags": []
     },
     "output_type": "execute_result"
    }
   ],
   "source": [
    "# we can also do some nice rounding with np \n",
    "decimals=1\n",
    "np.around(nums, decimals)"
   ]
  },
  {
   "cell_type": "code",
   "execution_count": 39,
   "metadata": {
    "colab": {
     "base_uri": "https://localhost:8080/"
    },
    "id": "lZotmplgfaW5",
    "outputId": "855d5112-b205-4a37-f7dd-541e9c0ee662",
    "slideshow": {
     "slide_type": "subslide"
    }
   },
   "outputs": [
    {
     "data": {
      "text/plain": [
       "5.050505050505051"
      ]
     },
     "execution_count": 39,
     "metadata": {
      "tags": []
     },
     "output_type": "execute_result"
    }
   ],
   "source": [
    "# Numpy arrays can be accessed similar to lists\n",
    "\n",
    "nums[10]"
   ]
  },
  {
   "cell_type": "code",
   "execution_count": 40,
   "metadata": {
    "colab": {
     "base_uri": "https://localhost:8080/"
    },
    "id": "Vpi42KCvfhxF",
    "outputId": "dd4c7ada-6f17-4600-a961-37e49a4157fa",
    "slideshow": {
     "slide_type": "subslide"
    }
   },
   "outputs": [
    {
     "data": {
      "text/plain": [
       "array([  0.        ,   2.52525253,   5.05050505,   7.57575758,\n",
       "        10.1010101 ,  12.62626263,  15.15151515,  17.67676768,\n",
       "        20.2020202 ,  22.72727273,  25.25252525,  27.77777778,\n",
       "        30.3030303 ,  32.82828283,  35.35353535,  37.87878788,\n",
       "        40.4040404 ,  42.92929293,  45.45454545,  47.97979798,\n",
       "        50.50505051,  53.03030303,  55.55555556,  58.08080808,\n",
       "        60.60606061,  63.13131313,  65.65656566,  68.18181818,\n",
       "        70.70707071,  73.23232323,  75.75757576,  78.28282828,\n",
       "        80.80808081,  83.33333333,  85.85858586,  88.38383838,\n",
       "        90.90909091,  93.43434343,  95.95959596,  98.48484848,\n",
       "       101.01010101, 103.53535354, 106.06060606, 108.58585859,\n",
       "       111.11111111, 113.63636364, 116.16161616, 118.68686869,\n",
       "       121.21212121, 123.73737374, 126.26262626, 128.78787879,\n",
       "       131.31313131, 133.83838384, 136.36363636, 138.88888889,\n",
       "       141.41414141, 143.93939394, 146.46464646, 148.98989899,\n",
       "       151.51515152, 154.04040404, 156.56565657, 159.09090909,\n",
       "       161.61616162, 164.14141414, 166.66666667, 169.19191919,\n",
       "       171.71717172, 174.24242424, 176.76767677, 179.29292929,\n",
       "       181.81818182, 184.34343434, 186.86868687, 189.39393939,\n",
       "       191.91919192, 194.44444444, 196.96969697, 199.49494949,\n",
       "       202.02020202, 204.54545455, 207.07070707, 209.5959596 ,\n",
       "       212.12121212, 214.64646465, 217.17171717, 219.6969697 ,\n",
       "       222.22222222, 224.74747475, 227.27272727, 229.7979798 ,\n",
       "       232.32323232, 234.84848485, 237.37373737, 239.8989899 ,\n",
       "       242.42424242, 244.94949495, 247.47474747, 250.        ])"
      ]
     },
     "execution_count": 40,
     "metadata": {
      "tags": []
     },
     "output_type": "execute_result"
    }
   ],
   "source": [
    "# and you can do some fun matrix-style maths on them \n",
    "# notice how each element has been multiplied \n",
    "nums * 5 "
   ]
  },
  {
   "cell_type": "code",
   "execution_count": 41,
   "metadata": {
    "colab": {
     "base_uri": "https://localhost:8080/"
    },
    "id": "FF_tYDxQfwpd",
    "outputId": "3d7308e3-f13a-403e-8c3b-771cd71aae14",
    "slideshow": {
     "slide_type": "subslide"
    }
   },
   "outputs": [
    {
     "name": "stdout",
     "output_type": "stream",
     "text": [
      "The sum of values is \n",
      "2500.0000000000005\n",
      "The mean of values is \n",
      "25.000000000000004\n"
     ]
    }
   ],
   "source": [
    "# Some other common functions with arrays\n",
    "sums = np.sum(nums)\n",
    "print(\"The sum of values is \")\n",
    "print(sums)\n",
    "\n",
    "means = np.mean(nums)\n",
    "print(\"The mean of values is \")\n",
    "print(means)\n",
    "\n",
    "# You can try out others, such as np.min, np.max, np.median, np.std \n"
   ]
  },
  {
   "cell_type": "code",
   "execution_count": 42,
   "metadata": {
    "colab": {
     "base_uri": "https://localhost:8080/",
     "height": 282
    },
    "id": "qH0ffNIrft9d",
    "outputId": "cbdd4722-64dc-40bc-8d90-7ba6d2092824",
    "slideshow": {
     "slide_type": "subslide"
    }
   },
   "outputs": [
    {
     "data": {
      "text/plain": [
       "[<matplotlib.lines.Line2D at 0x7f8b695a8b50>]"
      ]
     },
     "execution_count": 42,
     "metadata": {
      "tags": []
     },
     "output_type": "execute_result"
    },
    {
     "data": {
      "image/png": "[encoded data removed]",
      "text/plain": [
       "<Figure size 432x288 with 1 Axes>"
      ]
     },
     "metadata": {
      "needs_background": "light",
      "tags": []
     },
     "output_type": "display_data"
    }
   ],
   "source": [
    "# Let's do some plotting and really get into the guts of data science\n",
    "\n",
    "import matplotlib.pyplot as plt\n",
    "import numpy as np\n",
    "\n",
    "Xs = np.arange(0,10)\n",
    "sin_values = [ ]\n",
    "\n",
    "for v in Xs: \n",
    "  sin = np.sin(v)\n",
    "  sin_values.append(sin)\n",
    "\n",
    "plt.plot(sin_values)"
   ]
  },
  {
   "cell_type": "code",
   "execution_count": 43,
   "metadata": {
    "colab": {
     "base_uri": "https://localhost:8080/",
     "height": 350
    },
    "id": "Kn53YoaShCkZ",
    "outputId": "bc389de8-8841-4ad3-c67e-9bab870978c8",
    "slideshow": {
     "slide_type": "subslide"
    }
   },
   "outputs": [
    {
     "data": {
      "text/plain": [
       "(array([1., 1., 0., 1., 1., 1., 0., 1., 1., 3.]),\n",
       " array([-0.95892427, -0.76409602, -0.56926777, -0.37443952, -0.17961127,\n",
       "         0.01521699,  0.21004524,  0.40487349,  0.59970174,  0.79452999,\n",
       "         0.98935825]),\n",
       " <a list of 10 Patch objects>)"
      ]
     },
     "execution_count": 43,
     "metadata": {
      "tags": []
     },
     "output_type": "execute_result"
    },
    {
     "data": {
      "image/png": "[encoded data removed]",
      "text/plain": [
       "<Figure size 432x288 with 1 Axes>"
      ]
     },
     "metadata": {
      "needs_background": "light",
      "tags": []
     },
     "output_type": "display_data"
    }
   ],
   "source": [
    "# We can reuse these same values to do other kinds of plotting... like a histogram of the values \n",
    "# Not exciting outputs yet, but good for us to see that we're quickly building some tools that can help us explore data\n",
    "plt.hist(sin_values)"
   ]
  },
  {
   "cell_type": "code",
   "execution_count": 44,
   "metadata": {
    "colab": {
     "base_uri": "https://localhost:8080/",
     "height": 279
    },
    "id": "3d8pkip4fg-m",
    "outputId": "67739fe5-16d1-4fa6-ce91-66a61fc56ffb",
    "slideshow": {
     "slide_type": "subslide"
    }
   },
   "outputs": [
    {
     "data": {
      "image/png": "[encoded data removed]",
      "text/plain": [
       "<Figure size 432x288 with 1 Axes>"
      ]
     },
     "metadata": {
      "needs_background": "light",
      "tags": []
     },
     "output_type": "display_data"
    }
   ],
   "source": [
    "import matplotlib.pyplot as plt \n",
    "import numpy as np \n",
    "\n",
    "sin_values = []\n",
    "Xs = np.linspace(0,10, num=1000)\n",
    "for x in Xs:\n",
    "    sin_values.append(np.sin(x))\n",
    "plt.plot(Xs, sin_values)\n",
    "plt.xlabel('x')\n",
    "plt.ylabel('sin(x)')\n",
    "plt.grid()"
   ]
  },
  {
   "cell_type": "markdown",
   "metadata": {
    "id": "7WtXFvvEiJOw",
    "slideshow": {
     "slide_type": "slide"
    }
   },
   "source": [
    "## Before moving on! \n",
    "\n",
    "Take some time to look over what we've just done. \n",
    "\n",
    "Think if you can modify and re-run with other functions. Maybe you can get 'cos' to work rather than 'sin' with a little bit of guess work. \n",
    "\n",
    "You will probably see some errors if something goes wrong, but that's good! It gives us a chance to learn! "
   ]
  },
  {
   "cell_type": "markdown",
   "metadata": {
    "id": "tH1kfKTVimZy",
    "slideshow": {
     "slide_type": "slide"
    }
   },
   "source": [
    "## Some errors and what they mean\n"
   ]
  },
  {
   "cell_type": "code",
   "execution_count": 45,
   "metadata": {
    "colab": {
     "base_uri": "https://localhost:8080/",
     "height": 130
    },
    "id": "NsXIe6eUh8ZN",
    "outputId": "8fbd0a54-ca3f-4bfc-8d4d-877bcca52aee",
    "slideshow": {
     "slide_type": "subslide"
    }
   },
   "outputs": [
    {
     "ename": "SyntaxError",
     "evalue": "ignored",
     "output_type": "error",
     "traceback": [
      "\u001b[0;36m  File \u001b[0;32m\"<ipython-input-45-db1f682a89ad>\"\u001b[0;36m, line \u001b[0;32m1\u001b[0m\n\u001b[0;31m    X =\u001b[0m\n\u001b[0m        ^\u001b[0m\n\u001b[0;31mSyntaxError\u001b[0m\u001b[0;31m:\u001b[0m invalid syntax\n"
     ]
    }
   ],
   "source": [
    "X = \n",
    "print(X)"
   ]
  },
  {
   "cell_type": "code",
   "execution_count": 46,
   "metadata": {
    "colab": {
     "base_uri": "https://localhost:8080/",
     "height": 130
    },
    "id": "Hueoy3CEisCS",
    "outputId": "244f7c4e-aeaa-4c41-915b-06f9fc553ef3",
    "slideshow": {
     "slide_type": "subslide"
    }
   },
   "outputs": [
    {
     "ename": "SyntaxError",
     "evalue": "ignored",
     "output_type": "error",
     "traceback": [
      "\u001b[0;36m  File \u001b[0;32m\"<ipython-input-46-96a0cf5d040d>\"\u001b[0;36m, line \u001b[0;32m2\u001b[0m\n\u001b[0;31m    print(X\u001b[0m\n\u001b[0m           ^\u001b[0m\n\u001b[0;31mSyntaxError\u001b[0m\u001b[0;31m:\u001b[0m unexpected EOF while parsing\n"
     ]
    }
   ],
   "source": [
    "X= 10\n",
    "print(X"
   ]
  },
  {
   "cell_type": "code",
   "execution_count": 47,
   "metadata": {
    "colab": {
     "base_uri": "https://localhost:8080/",
     "height": 283
    },
    "id": "POzYiM-vivOU",
    "outputId": "63f4171a-7012-478c-9707-9a5f00df6073",
    "slideshow": {
     "slide_type": "subslide"
    }
   },
   "outputs": [
    {
     "ename": "NameError",
     "evalue": "ignored",
     "output_type": "error",
     "traceback": [
      "\u001b[0;31m---------------------------------------------------------------------------\u001b[0m",
      "\u001b[0;31mNameError\u001b[0m                                 Traceback (most recent call last)",
      "\u001b[0;32m<ipython-input-47-339ea292cfb8>\u001b[0m in \u001b[0;36m<module>\u001b[0;34m()\u001b[0m\n\u001b[1;32m      1\u001b[0m \u001b[0;32mdef\u001b[0m \u001b[0mf\u001b[0m\u001b[0;34m(\u001b[0m\u001b[0mx\u001b[0m\u001b[0;34m)\u001b[0m\u001b[0;34m:\u001b[0m\u001b[0;34m\u001b[0m\u001b[0;34m\u001b[0m\u001b[0m\n\u001b[1;32m      2\u001b[0m   \u001b[0mprint\u001b[0m\u001b[0;34m(\u001b[0m\u001b[0mnotX\u001b[0m\u001b[0;34m)\u001b[0m\u001b[0;34m\u001b[0m\u001b[0;34m\u001b[0m\u001b[0m\n\u001b[0;32m----> 3\u001b[0;31m \u001b[0mf\u001b[0m\u001b[0;34m(\u001b[0m\u001b[0;36m10\u001b[0m\u001b[0;34m)\u001b[0m\u001b[0;34m\u001b[0m\u001b[0;34m\u001b[0m\u001b[0m\n\u001b[0m",
      "\u001b[0;32m<ipython-input-47-339ea292cfb8>\u001b[0m in \u001b[0;36mf\u001b[0;34m(x)\u001b[0m\n\u001b[1;32m      1\u001b[0m \u001b[0;32mdef\u001b[0m \u001b[0mf\u001b[0m\u001b[0;34m(\u001b[0m\u001b[0mx\u001b[0m\u001b[0;34m)\u001b[0m\u001b[0;34m:\u001b[0m\u001b[0;34m\u001b[0m\u001b[0;34m\u001b[0m\u001b[0m\n\u001b[0;32m----> 2\u001b[0;31m   \u001b[0mprint\u001b[0m\u001b[0;34m(\u001b[0m\u001b[0mnotX\u001b[0m\u001b[0;34m)\u001b[0m\u001b[0;34m\u001b[0m\u001b[0;34m\u001b[0m\u001b[0m\n\u001b[0m\u001b[1;32m      3\u001b[0m \u001b[0mf\u001b[0m\u001b[0;34m(\u001b[0m\u001b[0;36m10\u001b[0m\u001b[0;34m)\u001b[0m\u001b[0;34m\u001b[0m\u001b[0;34m\u001b[0m\u001b[0m\n",
      "\u001b[0;31mNameError\u001b[0m: name 'notX' is not defined"
     ]
    }
   ],
   "source": [
    "def f(x):\n",
    "  print(notX)\n",
    "f(10)"
   ]
  }
 ],
 "metadata": {
  "celltoolbar": "Slideshow",
  "colab": {
   "collapsed_sections": [],
   "name": "SummerSchool2021.ipynb",
   "provenance": []
  },
  "kernelspec": {
   "display_name": "Python 3",
   "language": "python",
   "name": "python3"
  },
  "language_info": {
   "codemirror_mode": {
    "name": "ipython",
    "version": 3
   },
   "file_extension": ".py",
   "mimetype": "text/x-python",
   "name": "python",
   "nbconvert_exporter": "python",
   "pygments_lexer": "ipython3",
   "version": "3.9.5"
  }
 },
 "nbformat": 4,
 "nbformat_minor": 1
}
